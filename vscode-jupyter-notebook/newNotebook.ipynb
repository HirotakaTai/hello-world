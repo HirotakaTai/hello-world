{
 "cells": [
  {
   "cell_type": "markdown",
   "id": "6dbf1245",
   "metadata": {},
   "source": [
    "# 必要なライブラリのインポート\n",
    "Jupyter Notebook の操作に必要な Python ライブラリ（例: os, nbformat など）をインポートします。"
   ]
  },
  {
   "cell_type": "code",
   "execution_count": 2,
   "id": "e93fb692",
   "metadata": {},
   "outputs": [],
   "source": [
    "# 必要なライブラリのインポート\n",
    "import os\n",
    "import nbformat"
   ]
  },
  {
   "cell_type": "markdown",
   "id": "3b6cebe3",
   "metadata": {},
   "source": [
    "# 新しいノートブックの作成\n",
    "Python コードで新しい Jupyter Notebook ファイル（.ipynb）を作成します。"
   ]
  },
  {
   "cell_type": "code",
   "execution_count": 3,
   "id": "c4ff5f99",
   "metadata": {},
   "outputs": [],
   "source": [
    "# 新しいノートブックファイルの作成\n",
    "notebook = nbformat.v4.new_notebook()\n",
    "notebook.cells.append(nbformat.v4.new_markdown_cell(\"# 新しいノートブック\"))\n",
    "with open(\"sample_created_notebook.ipynb\", \"w\") as f:\n",
    "    nbformat.write(notebook, f)"
   ]
  },
  {
   "cell_type": "markdown",
   "id": "7fd32897",
   "metadata": {},
   "source": [
    "# ノートブックの保存と確認\n",
    "作成したノートブックが正しく保存されているかを確認します。"
   ]
  },
  {
   "cell_type": "code",
   "execution_count": 4,
   "id": "b6869124",
   "metadata": {},
   "outputs": [
    {
     "name": "stdout",
     "output_type": "stream",
     "text": [
      "True\n"
     ]
    }
   ],
   "source": [
    "# ノートブックファイルの存在確認\n",
    "print(os.path.exists(\"sample_created_notebook.ipynb\"))"
   ]
  }
 ],
 "metadata": {
  "kernelspec": {
   "display_name": ".venv (3.13.4)",
   "language": "python",
   "name": "python3"
  },
  "language_info": {
   "codemirror_mode": {
    "name": "ipython",
    "version": 3
   },
   "file_extension": ".py",
   "mimetype": "text/x-python",
   "name": "python",
   "nbconvert_exporter": "python",
   "pygments_lexer": "ipython3",
   "version": "3.13.4"
  }
 },
 "nbformat": 4,
 "nbformat_minor": 5
}
